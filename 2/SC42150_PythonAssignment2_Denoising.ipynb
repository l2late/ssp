{
 "cells": [
  {
   "cell_type": "markdown",
   "metadata": {},
   "source": [
    "# SC42150 - Statistical Signal Analysis\n",
    "## Python Assignment II: Denoising with an FIR filter.\n"
   ]
  },
  {
   "cell_type": "markdown",
   "metadata": {},
   "source": [
    "#### Team members\n",
    "- Name (student number):\n",
    "- Name (student number):\n",
    "---\n"
   ]
  },
  {
   "cell_type": "markdown",
   "metadata": {},
   "source": [
    "## Introduction\n",
    "\n",
    "You have recently gotten involved in amateur RF communication, and you have finally managed to trasnmit a signal wirelessly! Your setup constists of one broadcasting antenna and three receiving ones, placed at different distances from the emitter, specifically 5cm, 100cm, and 200cm. The signal you sent was a short recording of a piano note. Upon receiving it however, you realise that it has been corrupted by noise. So now you want to apply what you have learned in the Statistical Signal Analysis course and try to remove the noise. Since the nature of the interference is stochastic, you want to subtract the effects of the distortion by using the theory of Wiener filters.\n",
    "\n",
    "In the configuration of the figure below, all signals are discrete-time and real.\n",
    "The corrupted signal $x(n) = d(n) + v(n)$ contains both the signal of interest $d(n)$ and a noise $v(n)$ which is _uncorrelated_ to d(n).\n",
    "In this assignment you will design a FIR filter $W(z)$, such that we can estimate the ground truth signal from $x(n)$ and from the statistical properties of the noise.\n",
    "\n",
    "![alt text][anc]\n",
    "\n",
    "[anc]: ./denoising-scheme.JPG"
   ]
  },
  {
   "cell_type": "markdown",
   "metadata": {},
   "source": [
    "## Reporting\n",
    "\n",
    "The report of this python exercise consists of this Jupyter Notebook file, with your answers added after each question. Answers will consist of code and/or text (markdown) cells. Please use the already indicated cells and format. You will **also** need to deliver a `PDF` version of this file.\n",
    "\n",
    "In order to create a PDF version of this file, go to the top left, click on `File` then `Export Notebook As` and Choose `PDF`.\n",
    "If this feature is not supported by your system, you can also choose `LaTeX`.\n",
    "Then, you can use your preferred `LaTeX` compiler to create the `PDF`. After generation you PDF report, please double check if all answers/plots are correctly displayed.\n",
    "\n",
    "Moreover, you will also need to send the `.mat` files with the signals used in this exercise. Don't forget to edit your team member's name and student number above. You will submit one Jupyter notebook per team."
   ]
  },
  {
   "cell_type": "markdown",
   "metadata": {},
   "source": [
    "### Loading files\n",
    "\n",
    "As mentioned before, you have three recordings available in the form of `piano_xxx.mat` files, one for each receiver distance (5cm, 100cm, 200cm). Furthermore, you have obtained a recording of the passive noise present in the system (`noise.mat`). Run this section in order to load the `.mat` files with the noise audios and the background noise signals."
   ]
  },
  {
   "cell_type": "code",
   "execution_count": 1,
   "metadata": {},
   "outputs": [
    {
     "name": "stdout",
     "output_type": "stream",
     "text": [
      "experiment number 3\n",
      "number of recording time steps 65411\n",
      "number of noise time steps 88200\n"
     ]
    }
   ],
   "source": [
    "# packages\n",
    "import numpy as np\n",
    "import sounddevice as sd\n",
    "import matplotlib.pyplot as plt\n",
    "\n",
    "import scipy.io as sio\n",
    "import scipy.linalg as lin\n",
    "import scipy.signal as sig\n",
    "\n",
    "# use this function to play the signals\n",
    "# be careful when using headphones!\n",
    "def play_signal( signal ):\n",
    "    sd.play( signal.astype('int16'), 22050 )\n",
    "\n",
    "# modeling distance in centimeters (cm)\n",
    "distances = np.array( [5.0, 100.0, 200.0] )\n",
    "\n",
    "# number of experiments with different distances\n",
    "N_exp = distances.shape[0]\n",
    "\n",
    "#print( f'Number of experiments = {N_exp}' )\n",
    "print('experiment number' , N_exp)\n",
    "\n",
    "# list of files for all distance experiments with audio\n",
    "filenames = ['piano_5cm.mat', 'piano_100cm.mat', 'piano_200cm.mat']\n",
    "\n",
    "# Number of data points\n",
    "N = len( sio.loadmat( filenames[0] )['audio'][0] )\n",
    "\n",
    "# create array with received data\n",
    "data_noised = np.zeros( (N_exp, N), dtype=float )\n",
    "for iexp in range(N_exp):\n",
    "    data_noised[iexp] = sio.loadmat( filenames[iexp] )['audio'][0]\n",
    "\n",
    "# array for the time steps\n",
    "time_steps = np.linspace( 0, N-1, N ).astype( int )\n",
    "#print( f'Number of recording time steps = {N}' )\n",
    "print('number of recording time steps', N)\n",
    "# load background noise signal that was measured\n",
    "\n",
    "filename_noise = 'noise.mat'\n",
    "data_mat = sio.loadmat( filename_noise )['audio'][0]\n",
    "\n",
    "Nnoise = len( data_mat )\n",
    "noise_measured = np.array( data_mat, dtype=float )\n",
    "\n",
    "#print( f'Number of noise time steps = {Nnoise}' )\n",
    "print('number of noise time steps' , Nnoise )"
   ]
  },
  {
   "cell_type": "markdown",
   "metadata": {},
   "source": [
    "# Exercises\n",
    "This part should be handled after all audio files were uploaded into `data_noised` array and the noise was uploaded into `noise_measured` file."
   ]
  },
  {
   "cell_type": "markdown",
   "metadata": {},
   "source": [
    "## Question 1\n",
    "\n",
    "Formulate the denoising problem as a Minimum Variance FIR Wiener Problem, using the symbols $x(n)$, $v(n)$, $d(n)$, $\\hat{d}(n)$, $e(n)$ as in the figure presented in the **Introduction**.\n",
    "No numerical values are required, but you need to specify the meaning of all the symbols and their relation to the sent and received data.\n"
   ]
  },
  {
   "cell_type": "markdown",
   "metadata": {},
   "source": [
    "### Answer (2 points)\n",
    "In this problem, we recieved a corrupted signal $x(n)$ . This signal consists of the corrupting noise $v(n)$ , and our desired signal $d(n)$ (). Our goal is to somehow remove the corrupting noise $v(n)$ so that we can identify our desired signal, $d(n)$ . In this case, we use a denoising method that consists of developing a Weiner Filter, $W(s)$ , which appropriately recieves our corrupted signal $x(n)$ and generates an aproximation of the desired signal. This aproximation is called $\\hat{d}(n)$ , and we will check that it's an accurate approximation of $d(n)$ by assuring that this approximation $\\hat{d}(n)$ produces an error signal,$e(n)$ =   $d(n)$ - $\\hat{d}(n)$ , with minimal variance. \n",
    "\n",
    "More precisely, we need to chose a W(s) through minimizing this variance equation :\n",
    "$$ \\min_{W(s)}{E[|e(n)|^{2}]} = \\min_{W(s)}E[| d(n) -\\hat{d(n)}|^{2}] $$\n",
    "\n",
    "\n",
    "As $x(n)$ is convolved with the system $W(s)$ this is equivalent to :\n",
    "$$\\min_{w(k)}E[|  \\sum_{k=0}^{m-1}w(k)x(n-k) - d(n)| ^{2}]$$\n",
    "\n",
    "\n",
    "\n",
    "\n"
   ]
  },
  {
   "cell_type": "markdown",
   "metadata": {},
   "source": [
    "## Question 2\n",
    "\n",
    "Plot the graphs for the received audio signals and the received noise signal.\n",
    "Use a separate plot for the noise signal.\n"
   ]
  },
  {
   "cell_type": "code",
   "execution_count": 2,
   "metadata": {},
   "outputs": [
    {
     "data": {
      "text/plain": [
       "[<matplotlib.lines.Line2D at 0x7fd554cb26d8>]"
      ]
     },
     "execution_count": 2,
     "metadata": {},
     "output_type": "execute_result"
    },
    {
     "data": {
      "image/png": "[encoded data removed]",
      "text/plain": [
       "<Figure size 432x288 with 4 Axes>"
      ]
     },
     "metadata": {
      "needs_background": "light"
     },
     "output_type": "display_data"
    }
   ],
   "source": [
    "### Answer (1 point)\n",
    "t = np.linspace(0,N, N)\n",
    "tnoise= np.linspace(0,Nnoise,Nnoise)\n",
    "\n",
    "fig, axs =plt.subplots(2,2, sharey = True)\n",
    "axs[0,0].plot(t,data_noised[0,:])\n",
    "\n",
    "axs[0,1].plot(t,data_noised[1,:])\n",
    "\n",
    "axs[1,0].plot(t,data_noised[2,:])\n",
    "\n",
    "axs[1,1].plot(tnoise,noise_measured)"
   ]
  },
  {
   "cell_type": "markdown",
   "metadata": {},
   "source": [
    "## Question 3\n",
    "\n",
    "Determine the Wiener-Hopf equation for the denoising case with filter order $m$.\n",
    "What assumptions are we making for the audio signal and the noise in order to obtain the values of the filter $w$?\n",
    "Derive how can we calculate the right hand side of the Wiener-Hopf equation assuming that we know $r_x(k), \\; \\forall k$ \n",
    "and the noise variance $\\sigma^2_v$."
   ]
  },
  {
   "cell_type": "markdown",
   "metadata": {
    "tags": []
   },
   "source": [
    "### Answer (2 points)\n",
    "Since this is a quadratic function, the minimum of this equation lies where it's derivative (with respect to w) is zero.\n",
    "This becomes :\n",
    "\\begin{align}\n",
    " 0 = E \\begin{pmatrix}\n",
    "            \\begin{bmatrix}\n",
    "              x_{0}^{*} \\\\ \n",
    "              x_{1}^{*}\\\\\n",
    "              \\vdots \\\\\n",
    "              ax_{n-m + 1}\n",
    "           \\end{bmatrix} d(n)\n",
    "         \\end{pmatrix}\n",
    "          - E\n",
    "         \\begin{pmatrix}\n",
    "          \\begin{bmatrix}\n",
    "           x_{0}^{*} \\\\ \n",
    "           x_{1}^{*}\\\\\n",
    "           \\vdots \\\\\n",
    "           ax_{n-m + 1}^{*}\n",
    "         \\end{bmatrix}\n",
    "         \\begin{bmatrix}x_{1} & x_{2} & \\ldots & x_{m} \\end{bmatrix} \n",
    "        \\end{pmatrix}\n",
    "  \\end{align}\n",
    "  \n",
    "   \n",
    "  \n",
    "Which we can use to solve for $\\hat{w(n)}$: $\\hat{w(n)} = R_x^{-1}r_{dx}$\n",
    "\n",
    "Where Rx is : \n",
    "\n",
    "\\begin{bmatrix}\n",
    "              r_{x}(0)^{*} & r_{x}(1)^{*} & \\ldots & \\ldots &  r_{x}(m-1)^{*}\\\\\n",
    "              r_{x}(1) & r_{x}(0) & r_{x}(1)^{*} & \\ldots &  r_{x}(m-1)^{*}r_{m-2}^{*}\\\\\n",
    "              \\vdots \\\\\n",
    "              r_{x}(n-m + 1) & \\ldots & \\ldots & \\ldots & r_{x}(0)\n",
    "           \\end{bmatrix} \n",
    "\n",
    "\n",
    "And $r_{dx}$ is a vector of covariance between $d(n)$ and $x(n)$. \n",
    "\n",
    "Since covariance is a linear function, and since $x(n) = d(n) + v(n)$, this covariance vector can be simplified as the  sum of the autocorrelation of $d(n)$ and the cross correlation between $v(n)$ and $d(n)$. Since we assume uncorrelated white noise $v(n)$, the cross correlation term is 0 and we are left with $r_{dx}$. Similarly, the autocorrelation $r_{x}$ can be simplified using these two definitions, yeilding only the auto correlation for both terms. The autocorrelation of ZMWN $v(n)$ is $\\sigma^{2}$ at k=0 and 0 for all other values, so this gives us the final equations : \n",
    "\n",
    " $R_{x}$ = \\begin{bmatrix}\n",
    "              r_{d}(0)^{*} + \\sigma^{2} & r_{d}(1)^{*} & \\ldots & \\ldots &  r_{d}(m-1)^{*}\\\\\n",
    "              r_{d}(1) & r_{d}(0) + \\sigma^{2} & r_{d}(1)^{*} & \\ldots &  r_{d}(m-1)^{*}r_{m-2}^{*}\\\\\n",
    "              \\vdots \\\\\n",
    "              r_{d}(n-m + 1) & \\ldots & \\ldots & \\ldots & r_{d}(0) + \\sigma^{2}\n",
    "           \\end{bmatrix} \n",
    "           \n",
    " \\begin{align}          \n",
    " r_{dx}(k) =  r_{d}(k) \n",
    " \\end{align}\n",
    " \\begin{align}\n",
    " r_{x}(k) = r_{d}(k) + \\sigma^{2}\\delta(k)\n",
    " \\end{align}\n",
    " \\begin{align}\n",
    " r_{d}(k) = r_{dx}(k) = r_{x}(k) - \\sigma^{2}\\delta(k)\n",
    " \\end{align}\n",
    "\n",
    " \n"
   ]
  },
  {
   "cell_type": "markdown",
   "metadata": {},
   "source": [
    "## Question 4\n",
    "\n",
    "Using your background noise measurement, estimate its mean and variance ($\\sigma^2_v$). Print these estimates."
   ]
  },
  {
   "cell_type": "code",
   "execution_count": 3,
   "metadata": {},
   "outputs": [
    {
     "name": "stdout",
     "output_type": "stream",
     "text": [
      "mean -0.7130270818895483 var 993764.5058174969\n"
     ]
    }
   ],
   "source": [
    "### Answer (1 point)\n",
    "mean_n = np.mean(noise_measured)\n",
    "var_n = np.var(noise_measured)\n",
    "print('mean', mean_n, 'var', var_n)\n"
   ]
  },
  {
   "cell_type": "markdown",
   "metadata": {},
   "source": [
    "## Question 5\n",
    "\n",
    "1. Assuming the ergodicity property of the  audio signals, calculate the auto-correlation function $r_x(k)$ of every received audio signal for lags $0,\\dots,9$. Print these values.\n",
    "\n",
    "2. Calculate the cross-correlation function $r_{dx}(k)$ of every received audio signal for lags $0,\\dots,9$. Print these values.\n",
    "\n",
    "3. Using the auto-correlation estimation formula of the measured noise, compute and plot the noise auto-correlation function for lags $0..9$. Is it ZMWN? Explain your answer.\n",
    "\n",
    "**Note:** if the signal $x(n)$ is auto-correlation ergodic,\n",
    "the auto-correlation function $r_x(k)$ can be estimated as\n",
    "(if we have only values $x_1, x_2, \\dots, x_N$):\n",
    "$$\n",
    "    r_x(k) = \\frac{1}{N-k} \\sum_{i=k+1}^{N} x(i) x^*(i-k)\n",
    "$$\n",
    "\n",
    "**Note:** if you are unfamiliar with python, take care when copying `np.arrays`. Read more [here](https://numpy.org/doc/stable/reference/generated/numpy.copy.html)."
   ]
  },
  {
   "cell_type": "code",
   "execution_count": 4,
   "metadata": {
    "scrolled": true
   },
   "outputs": [
    {
     "name": "stdout",
     "output_type": "stream",
     "text": [
      "ks [0, 1, 2, 3, 4, 5, 6, 7, 8, 9]\n",
      "65411 65411\n",
      "65410 65410\n",
      "65409 65409\n",
      "65408 65408\n",
      "65407 65407\n",
      "65406 65406\n",
      "65405 65405\n",
      "65404 65404\n",
      "65403 65403\n",
      "65402 65402\n",
      "10\n"
     ]
    }
   ],
   "source": [
    "### Answer (3 points)\n",
    "ks = [0,1,2,3,4,5,6,7,8,9]\n",
    "print('ks', ks)\n",
    "rx = []\n",
    "\n",
    "for k in ks :  \n",
    "\n",
    "    print(np.size(data_noised[0,k:]) , np.size(data_noised[0,:N-k]) )\n",
    "    corr1 = data_noised[0,k:] * data_noised[0,:N-k]\n",
    "    rk = (1/(N-k))*np.sum(corr1)\n",
    "    rx.append(rk)\n",
    "    \n",
    "rx = np.array(rx)\n",
    "rdx = rx \n",
    "rdx[0] = rdx[0] - var_n \n",
    "\n",
    "print(np.size(rdx))\n",
    "\n",
    "# rdx seems very large, might warrent a look...\n"
   ]
  },
  {
   "cell_type": "markdown",
   "metadata": {},
   "source": [
    "## Question 6\n",
    "\n",
    "Using a 10-th order FIR Wiener filter, calculate the optimal filter coefficients for every received audio signal. Print these values.\n",
    "\n",
    "**Note:** The `scipy.linalg.toeplitz()` function may be useful."
   ]
  },
  {
   "cell_type": "code",
   "execution_count": 5,
   "metadata": {},
   "outputs": [
    {
     "name": "stdout",
     "output_type": "stream",
     "text": [
      "[ 1.00000000e+00 -3.55271368e-14  8.52651283e-14  0.00000000e+00\n",
      "  1.13686838e-13 -7.10542736e-14 -1.42108547e-14 -5.68434189e-14\n",
      "  0.00000000e+00 -2.84217094e-14] 10\n"
     ]
    }
   ],
   "source": [
    "### Answer (2 points)\n",
    "import scipy\n",
    "a = np.array([1,2,3,4])\n",
    "#Ra = scipy.linalg.toeplitz(a) $ dummy a to print to see if i know what toeplitz does \n",
    "Rx = scipy.linalg.toeplitz(rx)\n",
    "Rx_inv = scipy.linalg.inv(Rx)\n",
    "w_hat = np.matmul(Rx_inv, rdx)\n",
    "print(w_hat, np.size(w_hat))\n",
    "\n",
    "\n"
   ]
  },
  {
   "cell_type": "markdown",
   "metadata": {},
   "source": [
    "## Question 7\n",
    "\n",
    "Using the computed filter coefficients, compute an estimate of the denoised audio signals from the received ones.\n",
    "Plot together the denoised signal with the originally received one. Draw one plot for every audio signal.\n",
    "\n",
    "Use the example code from this jupyter notebook (`play_signal()` function) in order to play the denoised signals - do you hear the difference between the originally received and the denoised one? \n",
    "\n",
    "**Note:** the `scipy.signal.lfilter()` function can be useful when using the Wiener filter."
   ]
  },
  {
   "cell_type": "code",
   "execution_count": 6,
   "metadata": {},
   "outputs": [],
   "source": [
    "### Answer (3 points)\n",
    "import scipy\n",
    "from time import sleep\n",
    "noisey = data_noised[0,:]\n",
    "filtered0 = scipy.signal.lfilter(w_hat, 1, data_noised[0,:])\n",
    "filtered1 = scipy.signal.lfilter(w_hat, 1, data_noised[1,:])\n",
    "filtered2 = scipy.signal.lfilter(w_hat, 1, data_noised[2,:])\n",
    "\n",
    "play_signal(noisey)\n",
    "sleep(2)\n",
    "play_signal(filtered0)\n",
    "\n",
    "## don't hear much of a difference :("
   ]
  },
  {
   "cell_type": "markdown",
   "metadata": {},
   "source": [
    "## Question 8\n",
    "\n",
    "Now we will attempt to understand what the Wiener filter is doing. To that end we will use the periodogram on the noisy and filtered signals. Calculate $P_x$ and $P_{\\hat d}$ for each recording. For each distance, create two side-by-side plots: the first subplot should show $P_x$ and $P_{\\hat d}$ over the whole positive discrete frequency spectrum $[0, \\pi]$ rad/sample, while the second subplot should show the exact same graph but zoomed in on the lower frequencies, e.g. $[0,0.8]$ rad/sample. The $y$-axis should be in decibels, i.e. $20 \\log_{10} P$. What do you conclude?\n",
    "\n",
    "**Note:** Plot first $P_x$ and then overlay on top $P_{\\hat d}$. Also play with transparencies to achieve a readable plot. In order to avoid indexing mistakes, it's suggested to use the `numpy.fft.fftfreq` function.\n",
    "\n",
    "          \n"
   ]
  },
  {
   "cell_type": "code",
   "execution_count": 23,
   "metadata": {},
   "outputs": [
    {
     "data": {
      "text/plain": [
       "[<matplotlib.lines.Line2D at 0x7fd54969acf8>]"
      ]
     },
     "execution_count": 23,
     "metadata": {},
     "output_type": "execute_result"
    },
    {
     "data": {
      "image/png": "[encoded data removed]",
      "text/plain": [
       "<Figure size 432x288 with 12 Axes>"
      ]
     },
     "metadata": {
      "needs_background": "light"
     },
     "output_type": "display_data"
    }
   ],
   "source": [
    "import math\n",
    "### Answer (2 points)\n",
    "# Px and Pd_hat are the Fourier Transform of the Autocorrelations:\n",
    "#of original signals :\n",
    "\n",
    "# check if Mode = full is valid !\n",
    "rx_0 = np.correlate(data_noised[0,:], data_noised[0,:], mode = 'full')\n",
    "rx_1 = np.correlate(data_noised[1,:], data_noised[1,:], mode = 'full')\n",
    "rx_2 = np.correlate(data_noised[2,:], data_noised[2,:], mode = 'full')\n",
    "\n",
    "# and of filtered signals :\n",
    "rdh_0 = np.correlate(filtered0,filtered0, mode = 'full' )\n",
    "rdh_1 = np.correlate(filtered1, filtered1, mode = 'full')\n",
    "rdh_2 = np.correlate(filtered2, filtered2, mode ='full')\n",
    "\n",
    "\n",
    "# and then taking the fourier transforms :\n",
    "# check if window is 1 is valid or what exactly is going on here...\n",
    "Fx_0 = np.fft.fft( rx_0)\n",
    "Fx_1 = np.fft.fft(rx_1)\n",
    "Fx_2 = np.fft.fft(rx_2)\n",
    "\n",
    "\n",
    "Fdh_0 = np.fft.fft(rdh_0)\n",
    "Fdh_1 = np.fft.fft(rdh_1)\n",
    "Fdh_2 = np.fft.fft(rdh_2)\n",
    "\n",
    "\n",
    "# and then Px is the real square of this Fourier Transform :\n",
    "\n",
    "Px_0 = Fx_0*np.conj(Fx_0)\n",
    "Px_1 = Fx_1*np.conj(Fx_1)\n",
    "Px_2 = Fx_2*np.conj(Fx_2)\n",
    "\n",
    "Pdh_0 = Fdh_0*np.conj(Fdh_0)\n",
    "Pdh_1 = Fdh_1*np.conj(Fdh_1)\n",
    "Pdh_2 = Fdh_2*np.conj(Fdh_2)\n",
    "\n",
    "\n",
    "n = np.size(Px_0)# all sizes are the same\n",
    "fx = np.fft.fftfreq(n) # frequency x axis\n",
    "\n",
    "\n",
    "fig, axs =plt.subplots(6,2, sharey = True)\n",
    "axs[0,0].plot(fx,20*np.log10(Px_0))\n",
    "axs[0,1].plot(fx,20*np.log10(Pdh_0))\n",
    "# cut smaller \n",
    "axs[1,0].plot(fx,20*np.log10(Px_0))\n",
    "axs[1,1].plot(fx,20*np.log10(Pdh_0))\n",
    "#axs[1,0].plot(t,data_noised[2,:])\n",
    "\n",
    "#axs[1,1].plot(tnoise,noise_measured)"
   ]
  },
  {
   "cell_type": "markdown",
   "metadata": {},
   "source": [
    "## Question 9\n",
    "\n",
    "To further investigate what the Wiener filter is doing, we will plot its frequency response. In a single plot the frequency response for each Wiener filter over the positive discrete frequency spectrum. Make sure the $y$-axis is in decibels. What do you conclude?        \n"
   ]
  },
  {
   "cell_type": "markdown",
   "metadata": {},
   "source": [
    "### Answer (2 points)\n"
   ]
  },
  {
   "cell_type": "markdown",
   "metadata": {},
   "source": [
    "## Question 10 (bonus)\n",
    "\n",
    "Do you think you can change something to achieve better results than the above (by using this setup)? If so, how? If not, elaborate."
   ]
  },
  {
   "cell_type": "markdown",
   "metadata": {},
   "source": [
    "### Answer (2 bonus points)\n"
   ]
  }
 ],
 "metadata": {
  "kernelspec": {
   "display_name": "Python 3",
   "language": "python",
   "name": "python3"
  },
  "language_info": {
   "codemirror_mode": {
    "name": "ipython",
    "version": 3
   },
   "file_extension": ".py",
   "mimetype": "text/x-python",
   "name": "python",
   "nbconvert_exporter": "python",
   "pygments_lexer": "ipython3",
   "version": "3.5.2"
  }
 },
 "nbformat": 4,
 "nbformat_minor": 4
}
