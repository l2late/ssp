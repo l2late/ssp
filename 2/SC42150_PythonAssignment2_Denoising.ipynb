{
 "cells": [
  {
   "cell_type": "markdown",
   "metadata": {},
   "source": [
    "# SC42150 - Statistical Signal Analysis\n",
    "## Python Assignment II: Denoising with an FIR filter.\n"
   ]
  },
  {
   "cell_type": "markdown",
   "metadata": {},
   "source": [
    "#### Team members\n",
    "- Name (student number):\n",
    "- Name (student number):\n",
    "---\n"
   ]
  },
  {
   "cell_type": "markdown",
   "metadata": {},
   "source": [
    "## Introduction\n",
    "\n",
    "You have recently gotten involved in amateur RF communication, and you have finally managed to trasnmit a signal wirelessly! Your setup constists of one broadcasting antenna and three receiving ones, placed at different distances from the emitter, specifically 5cm, 100cm, and 200cm. The signal you sent was a short recording of a piano note. Upon receiving it however, you realise that it has been corrupted by noise. So now you want to apply what you have learned in the Statistical Signal Analysis course and try to remove the noise. Since the nature of the interference is stochastic, you want to subtract the effects of the distortion by using the theory of Wiener filters.\n",
    "\n",
    "In the configuration of the figure below, all signals are discrete-time and real.\n",
    "The corrupted signal $x(n) = d(n) + v(n)$ contains both the signal of interest $d(n)$ and a noise $v(n)$ which is _uncorrelated_ to d(n).\n",
    "In this assignment you will design a FIR filter $W(z)$, such that we can estimate the ground truth signal from $x(n)$ and from the statistical properties of the noise.\n",
    "\n",
    "![alt text][anc]\n",
    "\n",
    "[anc]: ./denoising-scheme.JPG"
   ]
  },
  {
   "cell_type": "markdown",
   "metadata": {},
   "source": [
    "## Reporting\n",
    "\n",
    "The report of this python exercise consists of this Jupyter Notebook file, with your answers added after each question. Answers will consist of code and/or text (markdown) cells. Please use the already indicated cells and format. You will **also** need to deliver a `PDF` version of this file.\n",
    "\n",
    "In order to create a PDF version of this file, go to the top left, click on `File` then `Export Notebook As` and Choose `PDF`.\n",
    "If this feature is not supported by your system, you can also choose `LaTeX`.\n",
    "Then, you can use your preferred `LaTeX` compiler to create the `PDF`. After generation you PDF report, please double check if all answers/plots are correctly displayed.\n",
    "\n",
    "Moreover, you will also need to send the `.mat` files with the signals used in this exercise. Don't forget to edit your team member's name and student number above. You will submit one Jupyter notebook per team."
   ]
  },
  {
   "cell_type": "markdown",
   "metadata": {},
   "source": [
    "### Loading files\n",
    "\n",
    "As mentioned before, you have three recordings available in the form of `piano_xxx.mat` files, one for each receiver distance (5cm, 100cm, 200cm). Furthermore, you have obtained a recording of the passive noise present in the system (`noise.mat`). Run this section in order to load the `.mat` files with the noise audios and the background noise signals."
   ]
  },
  {
   "cell_type": "code",
   "execution_count": 4,
   "metadata": {},
   "outputs": [
    {
     "name": "stdout",
     "output_type": "stream",
     "text": [
      "experiment number 3\n",
      "number of recording time steps 65411\n",
      "number of noise time steps 88200\n"
     ]
    }
   ],
   "source": [
    "# packages\n",
    "import numpy as np\n",
    "import sounddevice as sd\n",
    "import matplotlib.pyplot as plt\n",
    "\n",
    "import scipy.io as sio\n",
    "import scipy.linalg as lin\n",
    "import scipy.signal as sig\n",
    "\n",
    "# use this function to play the signals\n",
    "# be careful when using headphones!\n",
    "def play_signal( signal ):\n",
    "    sd.play( signal.astype('int16'), 22050 )\n",
    "\n",
    "# modeling distance in centimeters (cm)\n",
    "distances = np.array( [5.0, 100.0, 200.0] )\n",
    "\n",
    "# number of experiments with different distances\n",
    "N_exp = distances.shape[0]\n",
    "\n",
    "#print( f'Number of experiments = {N_exp}' )\n",
    "print('experiment number' , N_exp)\n",
    "\n",
    "# list of files for all distance experiments with audio\n",
    "filenames = ['piano_5cm.mat', 'piano_100cm.mat', 'piano_200cm.mat']\n",
    "\n",
    "# Number of data points\n",
    "N = len( sio.loadmat( filenames[0] )['audio'][0] )\n",
    "\n",
    "# create array with received data\n",
    "data_noised = np.zeros( (N_exp, N), dtype=float )\n",
    "for iexp in range(N_exp):\n",
    "    data_noised[iexp] = sio.loadmat( filenames[iexp] )['audio'][0]\n",
    "\n",
    "# array for the time steps\n",
    "time_steps = np.linspace( 0, N-1, N ).astype( int )\n",
    "#print( f'Number of recording time steps = {N}' )\n",
    "print('number of recording time steps', N)\n",
    "# load background noise signal that was measured\n",
    "\n",
    "filename_noise = 'noise.mat'\n",
    "data_mat = sio.loadmat( filename_noise )['audio'][0]\n",
    "\n",
    "Nnoise = len( data_mat )\n",
    "noise_measured = np.array( data_mat, dtype=float )\n",
    "\n",
    "#print( f'Number of noise time steps = {Nnoise}' )\n",
    "print('number of noise time steps' , Nnoise )"
   ]
  },
  {
   "cell_type": "markdown",
   "metadata": {},
   "source": [
    "# Exercises\n",
    "This part should be handled after all audio files were uploaded into `data_noised` array and the noise was uploaded into `noise_measured` file."
   ]
  },
  {
   "cell_type": "markdown",
   "metadata": {},
   "source": [
    "## Question 1\n",
    "\n",
    "Formulate the denoising problem as a Minimum Variance FIR Wiener Problem, using the symbols $x(n)$, $v(n)$, $d(n)$, $\\hat{d}(n)$, $e(n)$ as in the figure presented in the **Introduction**.\n",
    "No numerical values are required, but you need to specify the meaning of all the symbols and their relation to the sent and received data.\n"
   ]
  },
  {
   "cell_type": "markdown",
   "metadata": {},
   "source": [
    "### Answer (2 points)\n",
    "In this problem, we recieved a corrupted signal $x(n)$ . This signal consists of the corrupting noise $v(n)$ , and our desired signal $d(n)$ (). Our goal is to somehow remove the corrupting noise $v(n)$ so that we can identify our desired signal, $d(n)$ . In this case, we use a denoising method that consists of developing a Weiner Filter, $W(s)$ , which appropriately recieves our corrupted signal $x(n)$ and generates an aproximation of the desired signal. This aproximation is called $\\hat{d}(n)$ , and we will check that it's an accurate approximation of $d(n)$ by assuring that this approximation $\\hat{d}(n)$ produces an error signal,$e(n)$ =   $d(n)$ - $\\hat{d}(n)$ , with minimal variance. \n",
    "\n",
    "More precisely, we need to chose a W(s) through minimizing this variance equation :\n",
    "$$ \\min_{W(s)}{E[|e(n)|^{2}]} = \\min_{W(s)}E[| d(n) -\\hat{d(n)}|^{2}] $$\n",
    "\n",
    "\n",
    "As $x(n)$ is convolved with the system $W(z)$ this is equivalent to :\n",
    "$$E[|  \\sum_{k=0}^{m-1}w(k)x(n-k) - d(n)| ^{2}]$$\n",
    "\n",
    "\n",
    "\n",
    "\n",
    "\n"
   ]
  },
  {
   "cell_type": "markdown",
   "metadata": {},
   "source": [
    "## Question 2\n",
    "\n",
    "Plot the graphs for the received audio signals and the received noise signal.\n",
    "Use a separate plot for the noise signal.\n"
   ]
  },
  {
   "cell_type": "code",
   "execution_count": 19,
   "metadata": {},
   "outputs": [
    {
     "ename": "IndexError",
     "evalue": "index 3 is out of bounds for axis 0 with size 3",
     "output_type": "error",
     "traceback": [
      "\u001b[0;31m---------------------------------------------------------------------------\u001b[0m",
      "\u001b[0;31mIndexError\u001b[0m                                Traceback (most recent call last)",
      "\u001b[0;32m<ipython-input-19-dce5976e362c>\u001b[0m in \u001b[0;36m<module>\u001b[0;34m\u001b[0m\n\u001b[1;32m     11\u001b[0m \u001b[0;34m\u001b[0m\u001b[0m\n\u001b[1;32m     12\u001b[0m \u001b[0max4\u001b[0m \u001b[0;34m=\u001b[0m \u001b[0mplt\u001b[0m\u001b[0;34m.\u001b[0m\u001b[0msubplot\u001b[0m\u001b[0;34m(\u001b[0m\u001b[0;36m2\u001b[0m\u001b[0;34m,\u001b[0m\u001b[0;36m2\u001b[0m\u001b[0;34m,\u001b[0m\u001b[0;36m3\u001b[0m\u001b[0;34m)\u001b[0m\u001b[0;34m\u001b[0m\u001b[0m\n\u001b[0;32m---> 13\u001b[0;31m \u001b[0mplt\u001b[0m\u001b[0;34m.\u001b[0m\u001b[0mplot\u001b[0m\u001b[0;34m(\u001b[0m\u001b[0mt\u001b[0m\u001b[0;34m,\u001b[0m\u001b[0mdata_noised\u001b[0m\u001b[0;34m[\u001b[0m\u001b[0;36m3\u001b[0m\u001b[0;34m,\u001b[0m\u001b[0;34m:\u001b[0m\u001b[0;34m]\u001b[0m\u001b[0;34m)\u001b[0m\u001b[0;34m\u001b[0m\u001b[0m\n\u001b[0m\u001b[1;32m     14\u001b[0m \u001b[0;34m\u001b[0m\u001b[0m\n\u001b[1;32m     15\u001b[0m \u001b[0max2\u001b[0m \u001b[0;34m=\u001b[0m \u001b[0mplt\u001b[0m\u001b[0;34m.\u001b[0m\u001b[0msubplot\u001b[0m\u001b[0;34m(\u001b[0m\u001b[0;36m2\u001b[0m\u001b[0;34m,\u001b[0m\u001b[0;36m2\u001b[0m\u001b[0;34m,\u001b[0m\u001b[0;36m3\u001b[0m\u001b[0;34m)\u001b[0m\u001b[0;34m\u001b[0m\u001b[0m\n",
      "\u001b[0;31mIndexError\u001b[0m: index 3 is out of bounds for axis 0 with size 3"
     ]
    },
    {
     "data": {
      "image/png": "[encoded data removed]",
      "text/plain": [
       "<Figure size 432x288 with 2 Axes>"
      ]
     },
     "metadata": {
      "needs_background": "light"
     },
     "output_type": "display_data"
    }
   ],
   "source": [
    "### Answer (1 point)\n",
    "t = np.linspace(0,N, N)\n",
    "tnoise= np.linspace(0,Nnoise,Nnoise)\n",
    "plt.figure()\n",
    "\n",
    "ax1 = plt.subplot(2,2,1)\n",
    "plt.plot(t,data_noised[1,:])\n",
    "\n",
    "ax3 = plt.subplot(2,1,2)\n",
    "plt.plot(t,data_noised[2,:])\n",
    "\n",
    "ax4 = plt.subplot(2,2,3)\n",
    "plt.plot(t,data_noised[3,:])\n",
    "\n",
    "ax2 = plt.subplot(2,2,3)\n",
    "plt.plot(tnoise,noise_measured)"
   ]
  },
  {
   "cell_type": "markdown",
   "metadata": {},
   "source": [
    "## Question 3\n",
    "\n",
    "Determine the Wiener-Hopf equation for the denoising case with filter order $m$.\n",
    "What assumptions are we making for the audio signal and the noise in order to obtain the values of the filter $w$?\n",
    "Derive how can we calculate the right hand side of the Wiener-Hopf equation assuming that we know $r_x(k), \\; \\forall k$ \n",
    "and the noise variance $\\sigma^2_v$."
   ]
  },
  {
   "cell_type": "markdown",
   "metadata": {
    "tags": []
   },
   "source": [
    "### Answer (2 points)\n"
   ]
  },
  {
   "cell_type": "markdown",
   "metadata": {},
   "source": [
    "## Question 4\n",
    "\n",
    "Using your background noise measurement, estimate its mean and variance ($\\sigma^2_v$). Print these estimates."
   ]
  },
  {
   "cell_type": "markdown",
   "metadata": {},
   "source": [
    "### Answer (1 point)\n"
   ]
  },
  {
   "cell_type": "markdown",
   "metadata": {},
   "source": [
    "## Question 5\n",
    "\n",
    "1. Assuming the ergodicity property of the  audio signals, calculate the auto-correlation function $r_x(k)$ of every received audio signal for lags $0,\\dots,9$. Print these values.\n",
    "\n",
    "2. Calculate the cross-correlation function $r_{dx}(k)$ of every received audio signal for lags $0,\\dots,9$. Print these values.\n",
    "\n",
    "3. Using the auto-correlation estimation formula of the measured noise, compute and plot the noise auto-correlation function for lags $0..9$. Is it ZMWN? Explain your answer.\n",
    "\n",
    "**Note:** if the signal $x(n)$ is auto-correlation ergodic,\n",
    "the auto-correlation function $r_x(k)$ can be estimated as\n",
    "(if we have only values $x_1, x_2, \\dots, x_N$):\n",
    "$$\n",
    "    r_x(k) = \\frac{1}{N-k} \\sum_{i=k+1}^{N} x(i) x^*(i-k)\n",
    "$$\n",
    "\n",
    "**Note:** if you are unfamiliar with python, take care when copying `np.arrays`. Read more [here](https://numpy.org/doc/stable/reference/generated/numpy.copy.html)."
   ]
  },
  {
   "cell_type": "markdown",
   "metadata": {},
   "source": [
    "### Answer (3 points)\n"
   ]
  },
  {
   "cell_type": "markdown",
   "metadata": {},
   "source": [
    "## Question 6\n",
    "\n",
    "Using a 10-th order FIR Wiener filter, calculate the optimal filter coefficients for every received audio signal. Print these values.\n",
    "\n",
    "**Note:** The `scipy.linalg.toeplitz()` function may be useful."
   ]
  },
  {
   "cell_type": "markdown",
   "metadata": {},
   "source": [
    "### Answer (2 points)\n"
   ]
  },
  {
   "cell_type": "markdown",
   "metadata": {},
   "source": [
    "## Question 7\n",
    "\n",
    "Using the computed filter coefficients, compute an estimate of the denoised audio signals from the received ones.\n",
    "Plot together the denoised signal with the originally received one. Draw one plot for every audio signal.\n",
    "\n",
    "Use the example code from this jupyter notebook (`play_signal()` function) in order to play the denoised signals - do you hear the difference between the originally received and the denoised one? \n",
    "\n",
    "**Note:** the `scipy.signal.lfilter()` function can be useful when using the Wiener filter."
   ]
  },
  {
   "cell_type": "markdown",
   "metadata": {},
   "source": [
    "### Answer (3 points)\n"
   ]
  },
  {
   "cell_type": "markdown",
   "metadata": {},
   "source": [
    "## Question 8\n",
    "\n",
    "Now we will attempt to understand what the Wiener filter is doing. To that end we will use the periodogram on the noisy and filtered signals. Calculate $P_x$ and $P_{\\hat d}$ for each recording. For each distance, create two side-by-side plots: the first subplot should show $P_x$ and $P_{\\hat d}$ over the whole positive discrete frequency spectrum $[0, \\pi]$ rad/sample, while the second subplot should show the exact same graph but zoomed in on the lower frequencies, e.g. $[0,0.8]$ rad/sample. The $y$-axis should be in decibels, i.e. $20 \\log_{10} P$. What do you conclude?\n",
    "\n",
    "**Note:** Plot first $P_x$ and then overlay on top $P_{\\hat d}$. Also play with transparencies to achieve a readable plot. In order to avoid indexing mistakes, it's suggested to use the `numpy.fft.fftfreq` function.\n",
    "\n",
    "          \n"
   ]
  },
  {
   "cell_type": "markdown",
   "metadata": {},
   "source": [
    "### Answer (2 points)\n"
   ]
  },
  {
   "cell_type": "markdown",
   "metadata": {},
   "source": [
    "## Question 9\n",
    "\n",
    "To further investigate what the Wiener filter is doing, we will plot its frequency response. In a single plot the frequency response for each Wiener filter over the positive discrete frequency spectrum. Make sure the $y$-axis is in decibels. What do you conclude?        \n"
   ]
  },
  {
   "cell_type": "markdown",
   "metadata": {},
   "source": [
    "### Answer (2 points)\n"
   ]
  },
  {
   "cell_type": "markdown",
   "metadata": {},
   "source": [
    "## Question 10 (bonus)\n",
    "\n",
    "Do you think you can change something to achieve better results than the above (by using this setup)? If so, how? If not, elaborate."
   ]
  },
  {
   "cell_type": "markdown",
   "metadata": {},
   "source": [
    "### Answer (2 bonus points)\n"
   ]
  }
 ],
 "metadata": {
  "kernelspec": {
   "display_name": "Python 3",
   "language": "python",
   "name": "python3"
  },
  "language_info": {
   "codemirror_mode": {
    "name": "ipython",
    "version": 3
   },
   "file_extension": ".py",
   "mimetype": "text/x-python",
   "name": "python",
   "nbconvert_exporter": "python",
   "pygments_lexer": "ipython3",
   "version": "3.5.2"
  }
 },
 "nbformat": 4,
 "nbformat_minor": 4
}
