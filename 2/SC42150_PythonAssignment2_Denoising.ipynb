{
 "cells": [
  {
   "cell_type": "markdown",
   "metadata": {},
   "source": [
    "# SC42150 - Statistical Signal Analysis\n",
    "## Python Assignment II: Denoising with an FIR filter.\n"
   ]
  },
  {
   "cell_type": "markdown",
   "metadata": {},
   "source": [
    "#### Team members\n",
    "- Name (student number):\n",
    "- Luca de Laat (4135040):\n",
    "---\n"
   ]
  },
  {
   "cell_type": "markdown",
   "metadata": {},
   "source": [
    "## Introduction\n",
    "\n",
    "You have recently gotten involved in amateur RF communication, and you have finally managed to trasnmit a signal wirelessly! Your setup constists of one broadcasting antenna and three receiving ones, placed at different distances from the emitter, specifically 5cm, 100cm, and 200cm. The signal you sent was a short recording of a piano note. Upon receiving it however, you realise that it has been corrupted by noise. So now you want to apply what you have learned in the Statistical Signal Analysis course and try to remove the noise. Since the nature of the interference is stochastic, you want to subtract the effects of the distortion by using the theory of Wiener filters.\n",
    "\n",
    "In the configuration of the figure below, all signals are discrete-time and real.\n",
    "The corrupted signal $x(n) = d(n) + v(n)$ contains both the signal of interest $d(n)$ and a noise $v(n)$ which is _uncorrelated_ to d(n).\n",
    "In this assignment you will design a FIR filter $W(z)$, such that we can estimate the ground truth signal from $x(n)$ and from the statistical properties of the noise.\n",
    "\n",
    "![alt text][anc]\n",
    "\n",
    "[anc]: ./denoising-scheme.JPG"
   ]
  },
  {
   "cell_type": "markdown",
   "metadata": {},
   "source": [
    "## Reporting\n",
    "\n",
    "The report of this python exercise consists of this Jupyter Notebook file, with your answers added after each question. Answers will consist of code and/or text (markdown) cells. Please use the already indicated cells and format. You will **also** need to deliver a `PDF` version of this file.\n",
    "\n",
    "In order to create a PDF version of this file, go to the top left, click on `File` then `Export Notebook As` and Choose `PDF`.\n",
    "If this feature is not supported by your system, you can also choose `LaTeX`.\n",
    "Then, you can use your preferred `LaTeX` compiler to create the `PDF`. After generation you PDF report, please double check if all answers/plots are correctly displayed.\n",
    "\n",
    "Moreover, you will also need to send the `.mat` files with the signals used in this exercise. Don't forget to edit your team member's name and student number above. You will submit one Jupyter notebook per team."
   ]
  },
  {
   "cell_type": "markdown",
   "metadata": {},
   "source": [
    "### Loading files\n",
    "\n",
    "As mentioned before, you have three recordings available in the form of `piano_xxx.mat` files, one for each receiver distance (5cm, 100cm, 200cm). Furthermore, you have obtained a recording of the passive noise present in the system (`noise.mat`). Run this section in order to load the `.mat` files with the noise audios and the background noise signals."
   ]
  },
  {
   "cell_type": "code",
   "execution_count": 1,
   "metadata": {},
   "outputs": [
    {
     "name": "stdout",
     "output_type": "stream",
     "text": [
      "experiment number 3\n",
      "number of recording time steps 65411\n",
      "number of noise time steps 88200\n"
     ]
    }
   ],
   "source": [
    "# packages\n",
    "import numpy as np\n",
    "import sounddevice as sd\n",
    "import matplotlib.pyplot as plt\n",
    "\n",
    "import scipy.io as sio\n",
    "import scipy.linalg as lin\n",
    "import scipy.signal as sig\n",
    "\n",
    "\n",
    "# use this function to play the signals\n",
    "# be careful when using headphones!\n",
    "def play_signal(signal):\n",
    "    sd.play(signal.astype(\"int16\"), 22050)\n",
    "\n",
    "\n",
    "# modeling distance in centimeters (cm)\n",
    "distances = np.array([5.0, 100.0, 200.0])\n",
    "\n",
    "# number of experiments with different distances\n",
    "N_exp = distances.shape[0]\n",
    "\n",
    "# print( f'Number of experiments = {N_exp}' )\n",
    "print(\"experiment number\", N_exp)\n",
    "\n",
    "# list of files for all distance experiments with audio\n",
    "filenames = [\"piano_5cm.mat\", \"piano_100cm.mat\", \"piano_200cm.mat\"]\n",
    "\n",
    "# Number of data points\n",
    "N = len(sio.loadmat(filenames[0])[\"audio\"][0])\n",
    "\n",
    "# create array with received data\n",
    "data_noised = np.zeros((N_exp, N), dtype=float)\n",
    "for iexp in range(N_exp):\n",
    "    data_noised[iexp] = sio.loadmat(filenames[iexp])[\"audio\"][0]\n",
    "\n",
    "# array for the time steps\n",
    "time_steps = np.linspace(0, N - 1, N).astype(int)\n",
    "# print( f'Number of recording time steps = {N}' )\n",
    "print(\"number of recording time steps\", N)\n",
    "# load background noise signal that was measured\n",
    "\n",
    "filename_noise = \"noise.mat\"\n",
    "data_mat = sio.loadmat(filename_noise)[\"audio\"][0]\n",
    "\n",
    "Nnoise = len(data_mat)\n",
    "noise_measured = np.array(data_mat, dtype=float)\n",
    "\n",
    "# print( f'Number of noise time steps = {Nnoise}' )\n",
    "print(\"number of noise time steps\", Nnoise)"
   ]
  },
  {
   "cell_type": "code",
   "execution_count": 2,
   "metadata": {},
   "outputs": [],
   "source": [
    "# play_signal(noise_measured)\n",
    "# play_signal(data_noised[0])\n",
    "# play_signal(data_noised[1])\n",
    "# play_signal(data_noised[2])"
   ]
  },
  {
   "cell_type": "markdown",
   "metadata": {},
   "source": [
    "# Exercises\n",
    "This part should be handled after all audio files were uploaded into `data_noised` array and the noise was uploaded into `noise_measured` file."
   ]
  },
  {
   "cell_type": "markdown",
   "metadata": {},
   "source": [
    "## Question 1\n",
    "\n",
    "Formulate the denoising problem as a Minimum Variance FIR Wiener Problem, using the symbols $x(n)$, $v(n)$, $d(n)$, $\\hat{d}(n)$, $e(n)$ as in the figure presented in the **Introduction**.\n",
    "No numerical values are required, but you need to specify the meaning of all the symbols and their relation to the sent and received data.\n"
   ]
  },
  {
   "cell_type": "markdown",
   "metadata": {},
   "source": [
    "### Answer (2 points)\n",
    "In this problem, we received a corrupted signal $x(n)$ . This signal consists of the corrupting noise $v(n)$ , and our desired signal $d(n)$. Our goal is to somehow remove the corrupting noise $v(n)$ so that we can identify our desired signal, $d(n)$ . In this case, we use a denoising method that consists of developing a Weiner Filter, $W(z)$ , which appropriately receives our corrupted signal $x(n)$ and generates an approximation of the desired signal. This approximation is called $\\hat{d}(n)$ , and we will check that it's an accurate approximation of $d(n)$ by assuring that this approximation $\\hat{d}(n)$ produces an error signal, $e(n)$ =   $d(n)$ - $\\hat{d}(n)$ , with minimum variance. \n",
    "\n",
    "More precisely, we need to chose a filter $W(z)$ through minimizing this variance equation :\n",
    "$$ \\min_{W(z)}{E[|e(n)|^{2}]} = \\min_{W(z)}E[| d(n) -\\hat{d}(n)|^{2}] $$\n",
    "\n",
    "\n",
    "As $x(n)$ is convolved with the system $W(s)$ this is equivalent to :\n",
    "$$\\min_{w(k)}E[|d(n) - \\sum_{k=0}^{m-1}w(k)x(n-k)| ^{2}]$$\n",
    "\n",
    "\n",
    "\n",
    "\n"
   ]
  },
  {
   "cell_type": "markdown",
   "metadata": {},
   "source": [
    "## Question 2\n",
    "\n",
    "Plot the graphs for the received audio signals and the received noise signal.\n",
    "Use a separate plot for the noise signal.\n"
   ]
  },
  {
   "cell_type": "code",
   "execution_count": 3,
   "metadata": {},
   "outputs": [
    {
     "data": {
      "image/png": "[encoded data removed]",
      "text/plain": [
       "<Figure size 432x288 with 4 Axes>"
      ]
     },
     "metadata": {
      "needs_background": "light"
     },
     "output_type": "display_data"
    }
   ],
   "source": [
    "### Answer (1 point)\n",
    "t = np.linspace(0, N, N)\n",
    "tnoise = np.linspace(0, Nnoise, Nnoise)\n",
    "\n",
    "fig, axs = plt.subplots(2, 2, sharey=True)\n",
    "axs[0, 0].plot(t, data_noised[0, :])\n",
    "axs[0, 0].set_title(\"Audio Signal (5 cm)\")\n",
    "axs[0, 0].set_ylabel(\"Amplitude\")\n",
    "axs[0, 0].set_xlabel(\"Sample\")\n",
    "\n",
    "axs[0, 1].plot(t, data_noised[1, :])\n",
    "axs[0, 1].set_title(\"Audio Signal (100 cm)\")\n",
    "axs[0, 1].set_ylabel(\"Amplitude\")\n",
    "axs[0, 1].set_xlabel(\"Sample\")\n",
    "\n",
    "axs[1, 0].plot(t, data_noised[2, :])\n",
    "axs[1, 0].set_title(\"Audio Signal (200 cm)\")\n",
    "axs[1, 0].set_ylabel(\"Amplitude\")\n",
    "axs[1, 0].set_xlabel(\"Sample\")\n",
    "\n",
    "axs[1, 1].plot(tnoise, noise_measured)\n",
    "axs[1, 1].set_title(\"Noise Signal\")\n",
    "axs[1, 1].set_ylabel(\"Amplitude\")\n",
    "axs[1, 1].set_xlabel(\"Sample\")\n",
    "\n",
    "plt.tight_layout()"
   ]
  },
  {
   "cell_type": "markdown",
   "metadata": {},
   "source": [
    "## Question 3\n",
    "\n",
    "Determine the Wiener-Hopf equation for the denoising case with filter order $m$.\n",
    "What assumptions are we making for the audio signal and the noise in order to obtain the values of the filter $w$?\n",
    "Derive how we can calculate the right hand side of the Wiener-Hopf equation assuming that we know $r_x(k), \\; \\forall k$ \n",
    "and the noise variance $\\sigma^2_v$."
   ]
  },
  {
   "cell_type": "markdown",
   "metadata": {
    "jp-MarkdownHeadingCollapsed": true,
    "tags": []
   },
   "source": [
    "### Answer (2 points)\n",
    "Since the cost function defined at Question 1 quadratic, the minimum of this equation is located at the point where it's derivative (with respect to w) is zero.\n",
    "This becomes : \n",
    "IS D(N) A COLUMN OR ROW VECTOR? SHOULD WE TAKE THE TRANSPOSE?\n",
    "WHAT IS a IN THE LAST ROW OF X?\n",
    "\n",
    "\\begin{align}\n",
    " 0 = E \\begin{pmatrix}\n",
    "            \\begin{bmatrix}\n",
    "              x_{0}^{*} \\\\ \n",
    "              x_{1}^{*}\\\\\n",
    "              \\vdots \\\\\n",
    "              ax_{n-m + 1}\n",
    "           \\end{bmatrix} d(n)^T\n",
    "         \\end{pmatrix}\n",
    "          - E\n",
    "         \\begin{pmatrix}\n",
    "          \\begin{bmatrix}\n",
    "           x_{0}^{*} \\\\ \n",
    "           x_{1}^{*}\\\\\n",
    "           \\vdots \\\\\n",
    "           ax_{n-m + 1}^{*}\n",
    "         \\end{bmatrix}\n",
    "         \\begin{bmatrix}x_{1} & x_{2} & \\ldots & x_{m} \\end{bmatrix} \n",
    "        \\end{pmatrix}\n",
    "  \\end{align}\n",
    "  \n",
    "Where $d(n) = [d(0) \\quad d(1) \\; \\cdots \\; d(n)]^T$\n",
    "  \n",
    "Which we can use to solve for $\\hat{w}(n) = R_x^{-1}r_{dx}$\n",
    "\n",
    "Where: \n",
    "\n",
    "$$ R_x =\n",
    "\\begin{bmatrix}\n",
    "              r_{x}(0) & r_{x}(1)^{*} & \\ldots & \\ldots &  r_{x}(m-1)^{*}\\\\\n",
    "              r_{x}(1) & r_{x}(0) & r_{x}(1)^{*} & \\ldots &  r_{x}(m-2)^{*}\\\\\n",
    "              \\vdots & & & & \\vdots\\\\\n",
    "              r_{x}(n-m + 1) & \\ldots & \\ldots & \\ldots & r_{x}(0)\n",
    "\\end{bmatrix}$$\n",
    "\n",
    "\n",
    "And $r_{dx}$ is a vector of covariance between $d(n)$ and $x(n)$. \n",
    "\n",
    "Since covariance is a linear function, and since $x(n) = d(n) + v(n)$, this covariance vector can be simplified as the  sum of the autocorrelation of $d(n)$ and the cross correlation between $v(n)$ and $d(n)$. Since we assume uncorrelated white noise $v(n)$, the cross correlation term is 0 and we are left with $r_{dx}$. Similarly, the autocorrelation $r_{x}$ can be simplified using these two definitions, yielding only the autocorrelation for both terms. The autocorrelation of ZMWN $v(n)$ is $\\sigma_v^{2}$ at k=0 and 0 for all other values, so this gives us the final equations : \n",
    "\n",
    " $$R_{x} = \\begin{bmatrix}\n",
    "              r_{d}(0) + \\sigma_v^{2} & r_{d}(1)^{*} & \\ldots & \\ldots &  r_{d}(m-1)^{*}\\\\\n",
    "              r_{d}(1) & r_{d}(0) + \\sigma_v^{2} & r_{d}(1)^{*} & \\ldots &  r_{d}(m-2)^{*}\\\\\n",
    "              \\vdots & & & & \\vdots\\\\\n",
    "              r_{d}(n-m + 1) & \\ldots & \\ldots & \\ldots & r_{d}(0) + \\sigma_v^{2}\n",
    "           \\end{bmatrix} $$\n",
    "           \n",
    "\\begin{align}          \n",
    "r_{dx}(k) &=  r_{d}(k) \\\\\n",
    "r_{x}(k) &= r_{d}(k) + \\sigma_v^{2}\\delta(k) \\\\\n",
    "r_{d}(k) &= r_{dx}(k) = r_{x}(k) - \\sigma_v^{2}\\delta(k)\n",
    "\\end{align}\n",
    " \n"
   ]
  },
  {
   "cell_type": "markdown",
   "metadata": {},
   "source": [
    "## Question 4\n",
    "\n",
    "Using your background noise measurement, estimate its mean and variance ($\\sigma^2_v$). Print these estimates."
   ]
  },
  {
   "cell_type": "code",
   "execution_count": 4,
   "metadata": {},
   "outputs": [
    {
     "name": "stdout",
     "output_type": "stream",
     "text": [
      "Mean of the noise: -0.7130270818895483\n",
      "Variance of the noise: 993764.5058174969\n"
     ]
    }
   ],
   "source": [
    "### Answer (1 point)\n",
    "mean_n = np.mean(noise_measured)\n",
    "var_n = np.var(noise_measured)\n",
    "print(f'Mean of the noise: {mean_n}')\n",
    "print(f'Variance of the noise: {var_n}')\n"
   ]
  },
  {
   "cell_type": "markdown",
   "metadata": {},
   "source": [
    "## Question 5\n",
    "\n",
    "1. Assuming the ergodicity property of the  audio signals, calculate the auto-correlation function $r_x(k)$ of every received audio signal for lags $0,\\dots,9$. Print these values.\n",
    "\n",
    "2. Calculate the cross-correlation function $r_{dx}(k)$ of every received audio signal for lags $0,\\dots,9$. Print these values.\n",
    "\n",
    "3. Using the auto-correlation estimation formula of the measured noise, compute and plot the noise auto-correlation function for lags $0..9$. Is it ZMWN? Explain your answer.\n",
    "\n",
    "**Note:** if the signal $x(n)$ is auto-correlation ergodic,\n",
    "the auto-correlation function $r_x(k)$ can be estimated as\n",
    "(if we have only values $x_1, x_2, \\dots, x_N$):\n",
    "$$\n",
    "    r_x(k) = \\frac{1}{N-k} \\sum_{i=k+1}^{N} x(i) x^*(i-k)\n",
    "$$\n",
    "\n",
    "**Note:** if you are unfamiliar with python, take care when copying `np.arrays`. Read more [here](https://numpy.org/doc/stable/reference/generated/numpy.copy.html)."
   ]
  },
  {
   "cell_type": "code",
   "execution_count": 79,
   "metadata": {
    "tags": []
   },
   "outputs": [
    {
     "name": "stdout",
     "output_type": "stream",
     "text": [
      "ks =  [0, 1, 2, 3, 4, 5, 6, 7, 8, 9]\n",
      "Rx :\n",
      "[[42539267.27186559  9299701.76916726  9521284.27354726]\n",
      " [41425877.28277022  8653637.78700504  8875855.51602202]\n",
      " [40271794.85527986  8355775.09465058  8576127.26597257]\n",
      " [38773396.26707742  7993341.93370841  8204578.96271098]\n",
      " [36800737.66569328  7594321.52017368  7800731.35121623]\n",
      " [34672741.2251934   7171642.48928233  7365230.87209125]\n",
      " [32451796.98021558  6755829.94495834  6927127.89739317]\n",
      " [30227588.11485536  6336697.92764969  6489613.46523148]\n",
      " [28041970.59575249  5921686.49009984  6063385.06510405]\n",
      " [25931901.29424177  5534152.40088988  5653902.83408764]]\n",
      "\n",
      "Rdx :\n",
      "[[41545502.7660481   8305937.26334977  8527519.76772976]\n",
      " [41425877.28277022  8653637.78700504  8875855.51602202]\n",
      " [40271794.85527986  8355775.09465058  8576127.26597257]\n",
      " [38773396.26707742  7993341.93370841  8204578.96271098]\n",
      " [36800737.66569328  7594321.52017368  7800731.35121623]\n",
      " [34672741.2251934   7171642.48928233  7365230.87209125]\n",
      " [32451796.98021558  6755829.94495834  6927127.89739317]\n",
      " [30227588.11485536  6336697.92764969  6489613.46523148]\n",
      " [28041970.59575249  5921686.49009984  6063385.06510405]\n",
      " [25931901.29424177  5534152.40088988  5653902.83408764]]\n",
      "\n"
     ]
    },
    {
     "data": {
      "text/plain": [
       "<matplotlib.legend.Legend at 0x7f87b244dfd0>"
      ]
     },
     "execution_count": 79,
     "metadata": {},
     "output_type": "execute_result"
    },
    {
     "data": {
      "image/png": "[encoded data removed]",
      "text/plain": [
       "<Figure size 432x288 with 1 Axes>"
      ]
     },
     "metadata": {
      "needs_background": "light"
     },
     "output_type": "display_data"
    }
   ],
   "source": [
    "### Answer (3 points)\n",
    "ks = list(range(10))\n",
    "print(\"ks = \", ks)\n",
    "rx = np.ndarray([len(ks), N_exp])\n",
    "rv = np.ndarray([len(ks), 1])\n",
    "\n",
    "# Autocorrelation rx\n",
    "for kk in ks:\n",
    "    # correlation of noise signal\n",
    "    corr_v = np.dot(noise_measured[kk:], noise_measured[: Nnoise - kk])\n",
    "    rv[kk] = corr_v / (Nnoise - kk)\n",
    "    for ii in range(N_exp):\n",
    "        assert np.size(data_noised[0, kk:]) == np.size(data_noised[0, : N - kk])\n",
    "        #         print(np.shape(data_noised[ii, kk:]))\n",
    "        corr1 = np.dot(data_noised[ii, kk:], data_noised[ii, : N - kk])\n",
    "        rk = corr1 / (N - kk)\n",
    "        rx[kk, ii] = rk\n",
    "\n",
    "# creaty copy of rx (not just reference)\n",
    "rdx = rx.copy()\n",
    "# substract noise variance when k=0 i.e. first row\n",
    "rdx[0, :] = rdx[0, :] - var_n\n",
    "\n",
    "# 1.\n",
    "print(f\"Rx :\\n{rx}\\n\")\n",
    "\n",
    "# 2.\n",
    "print(f\"Rdx :\\n{rdx}\\n\")\n",
    "\n",
    "# 3.\n",
    "plt.plot(rv, label=\"$r_v$\")\n",
    "plt.plot(ks, np.full(len(ks), var_n), label=\"$\\sigma_v^2$\")\n",
    "plt.legend()\n",
    "\n",
    "# print(np.shape(rdx))"
   ]
  },
  {
   "cell_type": "markdown",
   "metadata": {},
   "source": [
    "> Yes, the noise seems to be ZMWN because its autocorrelation function resembles a dirac-delta function centered at 0 lag with value $\\sigma_v^2$"
   ]
  },
  {
   "cell_type": "markdown",
   "metadata": {
    "tags": []
   },
   "source": [
    "## Question 6\n",
    "\n",
    "Using a 10-th order FIR Wiener filter, calculate the optimal filter coefficients for every received audio signal. Print these values.\n",
    "\n",
    "**Note:** The `scipy.linalg.toeplitz()` function may be useful."
   ]
  },
  {
   "cell_type": "code",
   "execution_count": 6,
   "metadata": {
    "collapsed": true,
    "jupyter": {
     "outputs_hidden": true
    },
    "tags": []
   },
   "outputs": [
    {
     "ename": "ValueError",
     "evalue": "matmul: Input operand 1 has a mismatch in its core dimension 0, with gufunc signature (n?,k),(k,m?)->(n?,m?) (size 10 is different from 30)",
     "output_type": "error",
     "traceback": [
      "\u001b[0;31m---------------------------------------------------------------------------\u001b[0m",
      "\u001b[0;31mValueError\u001b[0m                                Traceback (most recent call last)",
      "\u001b[0;32m/tmp/ipykernel_7811/152706278.py\u001b[0m in \u001b[0;36m<module>\u001b[0;34m\u001b[0m\n\u001b[1;32m      5\u001b[0m \u001b[0mRx\u001b[0m \u001b[0;34m=\u001b[0m \u001b[0mscipy\u001b[0m\u001b[0;34m.\u001b[0m\u001b[0mlinalg\u001b[0m\u001b[0;34m.\u001b[0m\u001b[0mtoeplitz\u001b[0m\u001b[0;34m(\u001b[0m\u001b[0mrx\u001b[0m\u001b[0;34m)\u001b[0m\u001b[0;34m\u001b[0m\u001b[0;34m\u001b[0m\u001b[0m\n\u001b[1;32m      6\u001b[0m \u001b[0mRx_inv\u001b[0m \u001b[0;34m=\u001b[0m \u001b[0mscipy\u001b[0m\u001b[0;34m.\u001b[0m\u001b[0mlinalg\u001b[0m\u001b[0;34m.\u001b[0m\u001b[0minv\u001b[0m\u001b[0;34m(\u001b[0m\u001b[0mRx\u001b[0m\u001b[0;34m)\u001b[0m\u001b[0;34m\u001b[0m\u001b[0;34m\u001b[0m\u001b[0m\n\u001b[0;32m----> 7\u001b[0;31m \u001b[0mw_hat\u001b[0m \u001b[0;34m=\u001b[0m \u001b[0mnp\u001b[0m\u001b[0;34m.\u001b[0m\u001b[0mmatmul\u001b[0m\u001b[0;34m(\u001b[0m\u001b[0mRx_inv\u001b[0m\u001b[0;34m,\u001b[0m \u001b[0mrdx\u001b[0m\u001b[0;34m)\u001b[0m\u001b[0;34m\u001b[0m\u001b[0;34m\u001b[0m\u001b[0m\n\u001b[0m\u001b[1;32m      8\u001b[0m \u001b[0mprint\u001b[0m\u001b[0;34m(\u001b[0m\u001b[0mw_hat\u001b[0m\u001b[0;34m,\u001b[0m \u001b[0mnp\u001b[0m\u001b[0;34m.\u001b[0m\u001b[0msize\u001b[0m\u001b[0;34m(\u001b[0m\u001b[0mw_hat\u001b[0m\u001b[0;34m)\u001b[0m\u001b[0;34m)\u001b[0m\u001b[0;34m\u001b[0m\u001b[0;34m\u001b[0m\u001b[0m\n\u001b[1;32m      9\u001b[0m \u001b[0;34m\u001b[0m\u001b[0m\n",
      "\u001b[0;31mValueError\u001b[0m: matmul: Input operand 1 has a mismatch in its core dimension 0, with gufunc signature (n?,k),(k,m?)->(n?,m?) (size 10 is different from 30)"
     ]
    }
   ],
   "source": [
    "### Answer (2 points)\n",
    "import scipy\n",
    "a = np.array([1,2,3,4])\n",
    "#Ra = scipy.linalg.toeplitz(a) $ dummy a to print to see if i know what toeplitz does \n",
    "Rx = scipy.linalg.toeplitz(rx)\n",
    "Rx_inv = scipy.linalg.inv(Rx)\n",
    "w_hat = np.matmul(Rx_inv, rdx)\n",
    "print(w_hat, np.size(w_hat))\n",
    "\n",
    "\n"
   ]
  },
  {
   "cell_type": "markdown",
   "metadata": {
    "tags": []
   },
   "source": [
    "## Question 7\n",
    "\n",
    "Using the computed filter coefficients, compute an estimate of the denoised audio signals from the received ones.\n",
    "Plot together the denoised signal with the originally received one. Draw one plot for every audio signal.\n",
    "\n",
    "Use the example code from this jupyter notebook (`play_signal()` function) in order to play the denoised signals - do you hear the difference between the originally received and the denoised one? \n",
    "\n",
    "**Note:** the `scipy.signal.lfilter()` function can be useful when using the Wiener filter."
   ]
  },
  {
   "cell_type": "code",
   "execution_count": null,
   "metadata": {},
   "outputs": [],
   "source": [
    "### Answer (3 points)\n",
    "import scipy\n",
    "from time import sleep\n",
    "noisey = data_noised[0,:]\n",
    "filtered0 = scipy.signal.lfilter(w_hat, 1, data_noised[0,:])\n",
    "filtered1 = scipy.signal.lfilter(w_hat, 1, data_noised[1,:])\n",
    "filtered2 = scipy.signal.lfilter(w_hat, 1, data_noised[2,:])\n",
    "\n",
    "play_signal(noisey)\n",
    "sleep(2)\n",
    "play_signal(filtered0)\n",
    "\n",
    "## don't hear much of a difference :("
   ]
  },
  {
   "cell_type": "markdown",
   "metadata": {},
   "source": [
    "## Question 8\n",
    "\n",
    "Now we will attempt to understand what the Wiener filter is doing. To that end we will use the periodogram on the noisy and filtered signals. Calculate $P_x$ and $P_{\\hat d}$ for each recording. For each distance, create two side-by-side plots: the first subplot should show $P_x$ and $P_{\\hat d}$ over the whole positive discrete frequency spectrum $[0, \\pi]$ rad/sample, while the second subplot should show the exact same graph but zoomed in on the lower frequencies, e.g. $[0,0.8]$ rad/sample. The $y$-axis should be in decibels, i.e. $20 \\log_{10} P$. What do you conclude?\n",
    "\n",
    "**Note:** Plot first $P_x$ and then overlay on top $P_{\\hat d}$. Also play with transparencies to achieve a readable plot. In order to avoid indexing mistakes, it's suggested to use the `numpy.fft.fftfreq` function.\n",
    "\n",
    "          \n"
   ]
  },
  {
   "cell_type": "markdown",
   "metadata": {},
   "source": [
    "### Answer (2 points)\n"
   ]
  },
  {
   "cell_type": "markdown",
   "metadata": {},
   "source": [
    "## Question 9\n",
    "\n",
    "To further investigate what the Wiener filter is doing, we will plot its frequency response. In a single plot the frequency response for each Wiener filter over the positive discrete frequency spectrum. Make sure the $y$-axis is in decibels. What do you conclude?        \n"
   ]
  },
  {
   "cell_type": "markdown",
   "metadata": {},
   "source": [
    "### Answer (2 points)\n"
   ]
  },
  {
   "cell_type": "markdown",
   "metadata": {},
   "source": [
    "## Question 10 (bonus)\n",
    "\n",
    "Do you think you can change something to achieve better results than the above (by using this setup)? If so, how? If not, elaborate."
   ]
  },
  {
   "cell_type": "markdown",
   "metadata": {},
   "source": [
    "### Answer (2 bonus points)\n"
   ]
  }
 ],
 "metadata": {
  "kernelspec": {
   "display_name": "Python 3 (ipykernel)",
   "language": "python",
   "name": "python3"
  },
  "language_info": {
   "codemirror_mode": {
    "name": "ipython",
    "version": 3
   },
   "file_extension": ".py",
   "mimetype": "text/x-python",
   "name": "python",
   "nbconvert_exporter": "python",
   "pygments_lexer": "ipython3",
   "version": "3.9.7"
  }
 },
 "nbformat": 4,
 "nbformat_minor": 4
}
